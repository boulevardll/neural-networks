{
 "cells": [
  {
   "cell_type": "code",
   "execution_count": 3,
   "id": "e241483c",
   "metadata": {},
   "outputs": [],
   "source": [
    "import pandas as pd"
   ]
  },
  {
   "cell_type": "code",
   "execution_count": 4,
   "id": "3c804858",
   "metadata": {},
   "outputs": [
    {
     "data": {
      "text/html": [
       "<style type=\"text/css\">\n",
       "#T_7b167 th {\n",
       "  border: 1px solid black;\n",
       "}\n",
       "#T_7b167 td {\n",
       "  border: 1px solid black;\n",
       "}\n",
       "</style>\n",
       "<table id=\"T_7b167\">\n",
       "  <thead>\n",
       "    <tr>\n",
       "      <th class=\"blank level0\" >&nbsp;</th>\n",
       "      <th id=\"T_7b167_level0_col0\" class=\"col_heading level0 col0\" >Model name</th>\n",
       "      <th id=\"T_7b167_level0_col1\" class=\"col_heading level0 col1\" >Время обучения (s)</th>\n",
       "      <th id=\"T_7b167_level0_col2\" class=\"col_heading level0 col2\" >Accuracy (%)</th>\n",
       "      <th id=\"T_7b167_level0_col3\" class=\"col_heading level0 col3\" >Loss</th>\n",
       "      <th id=\"T_7b167_level0_col4\" class=\"col_heading level0 col4\" >Кол-во параметров(вес модели)</th>\n",
       "    </tr>\n",
       "  </thead>\n",
       "  <tbody>\n",
       "    <tr>\n",
       "      <th id=\"T_7b167_level0_row0\" class=\"row_heading level0 row0\" >0</th>\n",
       "      <td id=\"T_7b167_row0_col0\" class=\"data row0 col0\" >Полносвязная</td>\n",
       "      <td id=\"T_7b167_row0_col1\" class=\"data row0 col1\" >80</td>\n",
       "      <td id=\"T_7b167_row0_col2\" class=\"data row0 col2\" >97.600000</td>\n",
       "      <td id=\"T_7b167_row0_col3\" class=\"data row0 col3\" >0.080000</td>\n",
       "      <td id=\"T_7b167_row0_col4\" class=\"data row0 col4\" >669.962 (2.56 MB)</td>\n",
       "    </tr>\n",
       "    <tr>\n",
       "      <th id=\"T_7b167_level0_row1\" class=\"row_heading level0 row1\" >1</th>\n",
       "      <td id=\"T_7b167_row1_col0\" class=\"data row1 col0\" >Сверточная</td>\n",
       "      <td id=\"T_7b167_row1_col1\" class=\"data row1 col1\" >80</td>\n",
       "      <td id=\"T_7b167_row1_col2\" class=\"data row1 col2\" >99.000000</td>\n",
       "      <td id=\"T_7b167_row1_col3\" class=\"data row1 col3\" >0.030000</td>\n",
       "      <td id=\"T_7b167_row1_col4\" class=\"data row1 col4\" >421.642 (1.61 MB)</td>\n",
       "    </tr>\n",
       "  </tbody>\n",
       "</table>\n"
      ],
      "text/plain": [
       "<pandas.io.formats.style.Styler at 0x1abc38c2fd0>"
      ]
     },
     "execution_count": 4,
     "metadata": {},
     "output_type": "execute_result"
    }
   ],
   "source": [
    "data = {\n",
    "    'Model name': ['Полносвязная', 'Сверточная'],\n",
    "    'Время обучения (s)': [80, 80],\n",
    "    'Accuracy (%)': [97.6, 99],\n",
    "    'Loss':[0.08, 0.03],\n",
    "    'Кол-во параметров(вес модели)':['669.962 (2.56 MB)','421.642 (1.61 MB)']\n",
    "    \n",
    "}\n",
    "\n",
    "# Создаем DataFrame (таблицу)\n",
    "df = pd.DataFrame(data)\n",
    "\n",
    "# Выводим таблицу на экран\n",
    "def add_borders(df):\n",
    "    return df.style.set_table_styles([\n",
    "        {'selector': 'th', 'props': [('border', '1px solid black')]},\n",
    "        {'selector': 'td', 'props': [('border', '1px solid black')]}\n",
    "    ])\n",
    "\n",
    "# Выводим стилизованную таблицу с границами\n",
    "add_borders(df)"
   ]
  },
  {
   "cell_type": "code",
   "execution_count": null,
   "id": "bd0fdb63",
   "metadata": {},
   "outputs": [],
   "source": []
  }
 ],
 "metadata": {
  "kernelspec": {
   "display_name": "Python 3 (ipykernel)",
   "language": "python",
   "name": "python3"
  },
  "language_info": {
   "codemirror_mode": {
    "name": "ipython",
    "version": 3
   },
   "file_extension": ".py",
   "mimetype": "text/x-python",
   "name": "python",
   "nbconvert_exporter": "python",
   "pygments_lexer": "ipython3",
   "version": "3.11.5"
  }
 },
 "nbformat": 4,
 "nbformat_minor": 5
}
